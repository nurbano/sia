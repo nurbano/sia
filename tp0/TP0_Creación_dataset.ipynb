{
  "nbformat": 4,
  "nbformat_minor": 0,
  "metadata": {
    "colab": {
      "provenance": []
    },
    "kernelspec": {
      "name": "python3",
      "display_name": "Python 3"
    },
    "language_info": {
      "name": "python"
    }
  },
  "cells": [
    {
      "cell_type": "markdown",
      "source": [
        "**Introducción al Código de Simulación de Captura de Pokémon**\n",
        "\n",
        "El objetivo de este código es generar un dataset que será utilizado para analizar la probabilidad de captura de diferentes Pokémon en el notebook \"ITBA_TP0_análisis_de_datos.ipynb\".\n",
        "\n",
        "El código permite simular capturas variando parámetros como el tipo de Pokémon, su nivel, HP, estado, y el tipo de pokébola utilizada. Se generan múltiples combinaciones de estos factores para construir un dataset extenso. Este dataset, que incluye tanto la probabilidad como la efectividad de captura, se guardará para su análisis posterior."
      ],
      "metadata": {
        "id": "l_JZeA4pvHOA"
      }
    },
    {
      "cell_type": "code",
      "execution_count": null,
      "metadata": {
        "colab": {
          "base_uri": "https://localhost:8080/"
        },
        "id": "YkCzKatLjTOx",
        "outputId": "475aca4f-b3e9-4108-c4a4-ca47fe8704b4"
      },
      "outputs": [
        {
          "output_type": "stream",
          "name": "stdout",
          "text": [
            "Cloning into 'sia-tp0'...\n",
            "remote: Enumerating objects: 48, done.\u001b[K\n",
            "remote: Counting objects: 100% (15/15), done.\u001b[K\n",
            "remote: Compressing objects: 100% (8/8), done.\u001b[K\n",
            "remote: Total 48 (delta 9), reused 7 (delta 7), pack-reused 33 (from 1)\u001b[K\n",
            "Receiving objects: 100% (48/48), 171.69 KiB | 4.40 MiB/s, done.\n",
            "Resolving deltas: 100% (19/19), done.\n"
          ]
        }
      ],
      "source": [
        "!git clone https://github.com/santire/sia-tp0"
      ]
    },
    {
      "cell_type": "code",
      "source": [
        "%cd 'sia-tp0'"
      ],
      "metadata": {
        "colab": {
          "base_uri": "https://localhost:8080/"
        },
        "id": "XUwJUhHtjZq9",
        "outputId": "c69cff28-c534-410d-f38f-1fc1443f3670"
      },
      "execution_count": null,
      "outputs": [
        {
          "output_type": "stream",
          "name": "stdout",
          "text": [
            "/content/sia-tp0\n"
          ]
        }
      ]
    },
    {
      "cell_type": "code",
      "source": [
        "!pip install pipenv"
      ],
      "metadata": {
        "colab": {
          "base_uri": "https://localhost:8080/"
        },
        "id": "KiRQjfDyjd4c",
        "outputId": "1f528325-5b7d-4a8b-dcf4-52a91de7132a"
      },
      "execution_count": null,
      "outputs": [
        {
          "output_type": "stream",
          "name": "stdout",
          "text": [
            "Collecting pipenv\n",
            "  Downloading pipenv-2024.0.1-py3-none-any.whl.metadata (19 kB)\n",
            "Requirement already satisfied: certifi in /usr/local/lib/python3.10/dist-packages (from pipenv) (2024.7.4)\n",
            "Requirement already satisfied: setuptools>=67 in /usr/local/lib/python3.10/dist-packages (from pipenv) (71.0.4)\n",
            "Collecting virtualenv>=20.24.2 (from pipenv)\n",
            "  Downloading virtualenv-20.26.3-py3-none-any.whl.metadata (4.5 kB)\n",
            "Collecting distlib<1,>=0.3.7 (from virtualenv>=20.24.2->pipenv)\n",
            "  Downloading distlib-0.3.8-py2.py3-none-any.whl.metadata (5.1 kB)\n",
            "Requirement already satisfied: filelock<4,>=3.12.2 in /usr/local/lib/python3.10/dist-packages (from virtualenv>=20.24.2->pipenv) (3.15.4)\n",
            "Requirement already satisfied: platformdirs<5,>=3.9.1 in /usr/local/lib/python3.10/dist-packages (from virtualenv>=20.24.2->pipenv) (4.2.2)\n",
            "Downloading pipenv-2024.0.1-py3-none-any.whl (3.2 MB)\n",
            "\u001b[2K   \u001b[90m━━━━━━━━━━━━━━━━━━━━━━━━━━━━━━━━━━━━━━━━\u001b[0m \u001b[32m3.2/3.2 MB\u001b[0m \u001b[31m29.2 MB/s\u001b[0m eta \u001b[36m0:00:00\u001b[0m\n",
            "\u001b[?25hDownloading virtualenv-20.26.3-py3-none-any.whl (5.7 MB)\n",
            "\u001b[2K   \u001b[90m━━━━━━━━━━━━━━━━━━━━━━━━━━━━━━━━━━━━━━━━\u001b[0m \u001b[32m5.7/5.7 MB\u001b[0m \u001b[31m57.7 MB/s\u001b[0m eta \u001b[36m0:00:00\u001b[0m\n",
            "\u001b[?25hDownloading distlib-0.3.8-py2.py3-none-any.whl (468 kB)\n",
            "\u001b[2K   \u001b[90m━━━━━━━━━━━━━━━━━━━━━━━━━━━━━━━━━━━━━━━━\u001b[0m \u001b[32m468.9/468.9 kB\u001b[0m \u001b[31m26.7 MB/s\u001b[0m eta \u001b[36m0:00:00\u001b[0m\n",
            "\u001b[?25hInstalling collected packages: distlib, virtualenv, pipenv\n",
            "Successfully installed distlib-0.3.8 pipenv-2024.0.1 virtualenv-20.26.3\n"
          ]
        }
      ]
    },
    {
      "cell_type": "code",
      "source": [
        "!pipenv install"
      ],
      "metadata": {
        "colab": {
          "base_uri": "https://localhost:8080/"
        },
        "id": "S0FyTRdEjfsv",
        "outputId": "02aa9bb6-d151-4b1e-80c1-557de98fd0cb"
      },
      "execution_count": null,
      "outputs": [
        {
          "output_type": "stream",
          "name": "stdout",
          "text": [
            "\u001b[1mCreating a virtualenv for this project...\u001b[0m\n",
            "Pipfile: \u001b[33m\u001b[1m/content/sia-tp0/Pipfile\u001b[0m\n",
            "\u001b[1mUsing\u001b[0m \u001b[33m\u001b[1m/usr/local/bin/python\u001b[0m \u001b[32m(3.10.12)\u001b[0m \u001b[1mto create virtualenv...\u001b[0m\n",
            "\u001b[2K\u001b[32m⠙\u001b[0m Creating virtual environment...\u001b[36mcreated virtual environment CPython3.10.12.final.0-64 in 3070ms\n",
            "  creator CPython3Posix(dest=/root/.local/share/virtualenvs/sia-tp0-lGmXv_eV, clear=False, no_vcs_ignore=False, global=False)\n",
            "  seeder FromAppData(download=False, pip=bundle, setuptools=bundle, wheel=bundle, via=copy, app_data_dir=/root/.local/share/virtualenv)\n",
            "    added seed packages: pip==24.1, setuptools==70.1.0, wheel==0.43.0\n",
            "  activators BashActivator,CShellActivator,FishActivator,NushellActivator,PowerShellActivator,PythonActivator\n",
            "\u001b[0m\n",
            "✔ Successfully created virtual environment!\n",
            "\u001b[2K\u001b[32m⠙\u001b[0m Creating virtual environment...\n",
            "\u001b[1A\u001b[2K\u001b[32mVirtualenv location: /root/.local/share/virtualenvs/sia-tp0-lGmXv_eV\u001b[0m\n",
            "To activate this project's virtualenv, run \u001b[33mpipenv shell\u001b[0m.\n",
            "Alternatively, run a command inside the virtualenv with \u001b[33mpipenv run\u001b[0m.\n",
            "To activate this project's virtualenv, run \u001b[33mpipenv shell\u001b[0m.\n",
            "Alternatively, run a command inside the virtualenv with \u001b[33mpipenv run\u001b[0m.\n",
            "\u001b[1mInstalling dependencies from Pipfile.lock \u001b[0m\u001b[1m(\u001b[0m\u001b[1;36m159648\u001b[0m\u001b[1m)\u001b[0m\u001b[1;33m...\u001b[0m\n"
          ]
        }
      ]
    },
    {
      "cell_type": "code",
      "source": [
        "!pipenv run python main.py ./configs/caterpie.json"
      ],
      "metadata": {
        "colab": {
          "base_uri": "https://localhost:8080/"
        },
        "id": "gk7RODJNj2gF",
        "outputId": "0ad7b17e-a4b2-409b-c762-f1ed202f9ff2"
      },
      "execution_count": null,
      "outputs": [
        {
          "output_type": "stream",
          "name": "stdout",
          "text": [
            "No noise:  (True, 0.332)\n",
            "Noisy:  (True, 0.3707635505122667)\n",
            "Noisy:  (False, 0.2934148534230771)\n",
            "Noisy:  (True, 0.3630378769936585)\n",
            "Noisy:  (False, 0.37672954888790117)\n",
            "Noisy:  (False, 0.2923175605574392)\n",
            "Noisy:  (False, 0.3538474519429606)\n",
            "Noisy:  (False, 0.40552673760138225)\n",
            "Noisy:  (False, 0.2944202516588919)\n",
            "Noisy:  (True, 0.3903684509490291)\n",
            "Noisy:  (False, 0.34071787805818865)\n"
          ]
        }
      ]
    },
    {
      "cell_type": "code",
      "source": [
        "import json\n",
        "import sys\n",
        "\n",
        "from src.catching import attempt_catch\n",
        "from src.pokemon import PokemonFactory, StatusEffect\n",
        "import os\n",
        "import pandas as pd\n",
        "import numpy as np"
      ],
      "metadata": {
        "id": "r9gepgiuj5dY"
      },
      "execution_count": null,
      "outputs": []
    },
    {
      "cell_type": "code",
      "source": [
        "factory = PokemonFactory(\"pokemon.json\")"
      ],
      "metadata": {
        "id": "OCU5dRTtj78a"
      },
      "execution_count": null,
      "outputs": []
    },
    {
      "cell_type": "markdown",
      "source": [
        "##Creación de Pokemon\n",
        "Con factorty.create se crea el pokemon, los argumentos son el tipo de pokemon como string, el HP (Vida) entre 0 y 1, el estados (enfermedad o no) y el nivel (0 y 100). Estos argumentos son las propiedades mutables del pokemon. Las propiedades inmutables están definidas por el tipo de pokemon.\n",
        "\n",
        "##Atrapada de pokemon\n",
        "Para intentar atrapar el pokemon utilizo attempt_catch y es necesario utilizar como argumento el pokemon que deseo atrapar y el tipo de bola a utilizar. Esta función nos devuelve un bool, si atrapamos o no el pokemon y una probabilidad de atraparlo entre 0 y 1.\n",
        "A su vez es posible inducir un ruido, un valor entre 0 y 1."
      ],
      "metadata": {
        "id": "CDB3ZCtMkGgO"
      }
    },
    {
      "cell_type": "code",
      "source": [
        "pokemon = factory.create(\"onix\", 100, StatusEffect.NONE, 1)\n",
        "catch, prob= attempt_catch(pokemon, \"ultraball\") #Sin ruido\n",
        "catch, prob"
      ],
      "metadata": {
        "colab": {
          "base_uri": "https://localhost:8080/"
        },
        "id": "FKLrQwzUkELr",
        "outputId": "82d8e076-bee2-41d4-c0b3-04459463c2db"
      },
      "execution_count": null,
      "outputs": [
        {
          "output_type": "execute_result",
          "data": {
            "text/plain": [
              "(False, 0.1172)"
            ]
          },
          "metadata": {},
          "execution_count": 8
        }
      ]
    },
    {
      "cell_type": "code",
      "source": [
        "catch, prob= attempt_catch(pokemon, \"ultraball\", 0.1) #con ruido\n",
        "catch, prob"
      ],
      "metadata": {
        "colab": {
          "base_uri": "https://localhost:8080/"
        },
        "id": "xUYtYgzOnYG9",
        "outputId": "9a43e530-2637-46e4-921c-86ae9d65f96c"
      },
      "execution_count": null,
      "outputs": [
        {
          "output_type": "execute_result",
          "data": {
            "text/plain": [
              "(True, 0.13159522956361586)"
            ]
          },
          "metadata": {},
          "execution_count": 9
        }
      ]
    },
    {
      "cell_type": "markdown",
      "source": [
        "##Propiedades inmutables\n",
        "\n",
        "Son las características propias de cada pokemon, y no se modifican."
      ],
      "metadata": {
        "id": "f5lPiPnDlHQo"
      }
    },
    {
      "cell_type": "code",
      "source": [
        "df_pokemon= pd.read_json(\"pokemon.json\", orient=\"index\")\n",
        "df_pokemon= df_pokemon.reset_index()\n",
        "df_type= pd.DataFrame(df_pokemon[\"type\"].to_list(), columns=['type1', 'type2'])\n",
        "df_stats=pd.DataFrame(df_pokemon[\"stats\"].to_list(), columns=[\"base_hp\", \"attack\", \"defense\", \"sp_attack\", \"Sp_defense\", \"speed\"])\n",
        "df_pokemon= pd.concat([df_pokemon[\"index\"], df_type, df_stats, df_pokemon[\"weight\"],  df_pokemon[\"catch_rate\"]], axis=1)\n",
        "df_pokemon.rename(columns = {'index':'pokemon'}, inplace = True)\n",
        "df_pokemon"
      ],
      "metadata": {
        "colab": {
          "base_uri": "https://localhost:8080/",
          "height": 206
        },
        "id": "T-4Yl-JCk8RQ",
        "outputId": "9ccf1c36-94df-4e3b-a2c8-1bbd7dcfb26f"
      },
      "execution_count": null,
      "outputs": [
        {
          "output_type": "execute_result",
          "data": {
            "text/plain": [
              "    pokemon     type1   type2  base_hp  attack  defense  sp_attack  \\\n",
              "0   jolteon  ELECTRIC    NONE       65      65       60        110   \n",
              "1  caterpie       BUG    NONE       45      30       35         20   \n",
              "2   snorlax    NORMAL    NONE      160     110       65         65   \n",
              "3      onix      ROCK  GROUND       35      45      160         30   \n",
              "4    mewtwo   PSYCHIC    NONE      106     110       90        154   \n",
              "\n",
              "   Sp_defense  speed  weight  catch_rate  \n",
              "0          95    130    54.0          45  \n",
              "1          20     45     6.4         255  \n",
              "2         110     30  1014.1          25  \n",
              "3          45     70   463.0          45  \n",
              "4          90    130   269.0           3  "
            ],
            "text/html": [
              "\n",
              "  <div id=\"df-41852f6c-7869-470a-b15c-162bb54718f9\" class=\"colab-df-container\">\n",
              "    <div>\n",
              "<style scoped>\n",
              "    .dataframe tbody tr th:only-of-type {\n",
              "        vertical-align: middle;\n",
              "    }\n",
              "\n",
              "    .dataframe tbody tr th {\n",
              "        vertical-align: top;\n",
              "    }\n",
              "\n",
              "    .dataframe thead th {\n",
              "        text-align: right;\n",
              "    }\n",
              "</style>\n",
              "<table border=\"1\" class=\"dataframe\">\n",
              "  <thead>\n",
              "    <tr style=\"text-align: right;\">\n",
              "      <th></th>\n",
              "      <th>pokemon</th>\n",
              "      <th>type1</th>\n",
              "      <th>type2</th>\n",
              "      <th>base_hp</th>\n",
              "      <th>attack</th>\n",
              "      <th>defense</th>\n",
              "      <th>sp_attack</th>\n",
              "      <th>Sp_defense</th>\n",
              "      <th>speed</th>\n",
              "      <th>weight</th>\n",
              "      <th>catch_rate</th>\n",
              "    </tr>\n",
              "  </thead>\n",
              "  <tbody>\n",
              "    <tr>\n",
              "      <th>0</th>\n",
              "      <td>jolteon</td>\n",
              "      <td>ELECTRIC</td>\n",
              "      <td>NONE</td>\n",
              "      <td>65</td>\n",
              "      <td>65</td>\n",
              "      <td>60</td>\n",
              "      <td>110</td>\n",
              "      <td>95</td>\n",
              "      <td>130</td>\n",
              "      <td>54.0</td>\n",
              "      <td>45</td>\n",
              "    </tr>\n",
              "    <tr>\n",
              "      <th>1</th>\n",
              "      <td>caterpie</td>\n",
              "      <td>BUG</td>\n",
              "      <td>NONE</td>\n",
              "      <td>45</td>\n",
              "      <td>30</td>\n",
              "      <td>35</td>\n",
              "      <td>20</td>\n",
              "      <td>20</td>\n",
              "      <td>45</td>\n",
              "      <td>6.4</td>\n",
              "      <td>255</td>\n",
              "    </tr>\n",
              "    <tr>\n",
              "      <th>2</th>\n",
              "      <td>snorlax</td>\n",
              "      <td>NORMAL</td>\n",
              "      <td>NONE</td>\n",
              "      <td>160</td>\n",
              "      <td>110</td>\n",
              "      <td>65</td>\n",
              "      <td>65</td>\n",
              "      <td>110</td>\n",
              "      <td>30</td>\n",
              "      <td>1014.1</td>\n",
              "      <td>25</td>\n",
              "    </tr>\n",
              "    <tr>\n",
              "      <th>3</th>\n",
              "      <td>onix</td>\n",
              "      <td>ROCK</td>\n",
              "      <td>GROUND</td>\n",
              "      <td>35</td>\n",
              "      <td>45</td>\n",
              "      <td>160</td>\n",
              "      <td>30</td>\n",
              "      <td>45</td>\n",
              "      <td>70</td>\n",
              "      <td>463.0</td>\n",
              "      <td>45</td>\n",
              "    </tr>\n",
              "    <tr>\n",
              "      <th>4</th>\n",
              "      <td>mewtwo</td>\n",
              "      <td>PSYCHIC</td>\n",
              "      <td>NONE</td>\n",
              "      <td>106</td>\n",
              "      <td>110</td>\n",
              "      <td>90</td>\n",
              "      <td>154</td>\n",
              "      <td>90</td>\n",
              "      <td>130</td>\n",
              "      <td>269.0</td>\n",
              "      <td>3</td>\n",
              "    </tr>\n",
              "  </tbody>\n",
              "</table>\n",
              "</div>\n",
              "    <div class=\"colab-df-buttons\">\n",
              "\n",
              "  <div class=\"colab-df-container\">\n",
              "    <button class=\"colab-df-convert\" onclick=\"convertToInteractive('df-41852f6c-7869-470a-b15c-162bb54718f9')\"\n",
              "            title=\"Convert this dataframe to an interactive table.\"\n",
              "            style=\"display:none;\">\n",
              "\n",
              "  <svg xmlns=\"http://www.w3.org/2000/svg\" height=\"24px\" viewBox=\"0 -960 960 960\">\n",
              "    <path d=\"M120-120v-720h720v720H120Zm60-500h600v-160H180v160Zm220 220h160v-160H400v160Zm0 220h160v-160H400v160ZM180-400h160v-160H180v160Zm440 0h160v-160H620v160ZM180-180h160v-160H180v160Zm440 0h160v-160H620v160Z\"/>\n",
              "  </svg>\n",
              "    </button>\n",
              "\n",
              "  <style>\n",
              "    .colab-df-container {\n",
              "      display:flex;\n",
              "      gap: 12px;\n",
              "    }\n",
              "\n",
              "    .colab-df-convert {\n",
              "      background-color: #E8F0FE;\n",
              "      border: none;\n",
              "      border-radius: 50%;\n",
              "      cursor: pointer;\n",
              "      display: none;\n",
              "      fill: #1967D2;\n",
              "      height: 32px;\n",
              "      padding: 0 0 0 0;\n",
              "      width: 32px;\n",
              "    }\n",
              "\n",
              "    .colab-df-convert:hover {\n",
              "      background-color: #E2EBFA;\n",
              "      box-shadow: 0px 1px 2px rgba(60, 64, 67, 0.3), 0px 1px 3px 1px rgba(60, 64, 67, 0.15);\n",
              "      fill: #174EA6;\n",
              "    }\n",
              "\n",
              "    .colab-df-buttons div {\n",
              "      margin-bottom: 4px;\n",
              "    }\n",
              "\n",
              "    [theme=dark] .colab-df-convert {\n",
              "      background-color: #3B4455;\n",
              "      fill: #D2E3FC;\n",
              "    }\n",
              "\n",
              "    [theme=dark] .colab-df-convert:hover {\n",
              "      background-color: #434B5C;\n",
              "      box-shadow: 0px 1px 3px 1px rgba(0, 0, 0, 0.15);\n",
              "      filter: drop-shadow(0px 1px 2px rgba(0, 0, 0, 0.3));\n",
              "      fill: #FFFFFF;\n",
              "    }\n",
              "  </style>\n",
              "\n",
              "    <script>\n",
              "      const buttonEl =\n",
              "        document.querySelector('#df-41852f6c-7869-470a-b15c-162bb54718f9 button.colab-df-convert');\n",
              "      buttonEl.style.display =\n",
              "        google.colab.kernel.accessAllowed ? 'block' : 'none';\n",
              "\n",
              "      async function convertToInteractive(key) {\n",
              "        const element = document.querySelector('#df-41852f6c-7869-470a-b15c-162bb54718f9');\n",
              "        const dataTable =\n",
              "          await google.colab.kernel.invokeFunction('convertToInteractive',\n",
              "                                                    [key], {});\n",
              "        if (!dataTable) return;\n",
              "\n",
              "        const docLinkHtml = 'Like what you see? Visit the ' +\n",
              "          '<a target=\"_blank\" href=https://colab.research.google.com/notebooks/data_table.ipynb>data table notebook</a>'\n",
              "          + ' to learn more about interactive tables.';\n",
              "        element.innerHTML = '';\n",
              "        dataTable['output_type'] = 'display_data';\n",
              "        await google.colab.output.renderOutput(dataTable, element);\n",
              "        const docLink = document.createElement('div');\n",
              "        docLink.innerHTML = docLinkHtml;\n",
              "        element.appendChild(docLink);\n",
              "      }\n",
              "    </script>\n",
              "  </div>\n",
              "\n",
              "\n",
              "<div id=\"df-83d08fbc-0316-4bbb-b9f1-a19ac06010f8\">\n",
              "  <button class=\"colab-df-quickchart\" onclick=\"quickchart('df-83d08fbc-0316-4bbb-b9f1-a19ac06010f8')\"\n",
              "            title=\"Suggest charts\"\n",
              "            style=\"display:none;\">\n",
              "\n",
              "<svg xmlns=\"http://www.w3.org/2000/svg\" height=\"24px\"viewBox=\"0 0 24 24\"\n",
              "     width=\"24px\">\n",
              "    <g>\n",
              "        <path d=\"M19 3H5c-1.1 0-2 .9-2 2v14c0 1.1.9 2 2 2h14c1.1 0 2-.9 2-2V5c0-1.1-.9-2-2-2zM9 17H7v-7h2v7zm4 0h-2V7h2v10zm4 0h-2v-4h2v4z\"/>\n",
              "    </g>\n",
              "</svg>\n",
              "  </button>\n",
              "\n",
              "<style>\n",
              "  .colab-df-quickchart {\n",
              "      --bg-color: #E8F0FE;\n",
              "      --fill-color: #1967D2;\n",
              "      --hover-bg-color: #E2EBFA;\n",
              "      --hover-fill-color: #174EA6;\n",
              "      --disabled-fill-color: #AAA;\n",
              "      --disabled-bg-color: #DDD;\n",
              "  }\n",
              "\n",
              "  [theme=dark] .colab-df-quickchart {\n",
              "      --bg-color: #3B4455;\n",
              "      --fill-color: #D2E3FC;\n",
              "      --hover-bg-color: #434B5C;\n",
              "      --hover-fill-color: #FFFFFF;\n",
              "      --disabled-bg-color: #3B4455;\n",
              "      --disabled-fill-color: #666;\n",
              "  }\n",
              "\n",
              "  .colab-df-quickchart {\n",
              "    background-color: var(--bg-color);\n",
              "    border: none;\n",
              "    border-radius: 50%;\n",
              "    cursor: pointer;\n",
              "    display: none;\n",
              "    fill: var(--fill-color);\n",
              "    height: 32px;\n",
              "    padding: 0;\n",
              "    width: 32px;\n",
              "  }\n",
              "\n",
              "  .colab-df-quickchart:hover {\n",
              "    background-color: var(--hover-bg-color);\n",
              "    box-shadow: 0 1px 2px rgba(60, 64, 67, 0.3), 0 1px 3px 1px rgba(60, 64, 67, 0.15);\n",
              "    fill: var(--button-hover-fill-color);\n",
              "  }\n",
              "\n",
              "  .colab-df-quickchart-complete:disabled,\n",
              "  .colab-df-quickchart-complete:disabled:hover {\n",
              "    background-color: var(--disabled-bg-color);\n",
              "    fill: var(--disabled-fill-color);\n",
              "    box-shadow: none;\n",
              "  }\n",
              "\n",
              "  .colab-df-spinner {\n",
              "    border: 2px solid var(--fill-color);\n",
              "    border-color: transparent;\n",
              "    border-bottom-color: var(--fill-color);\n",
              "    animation:\n",
              "      spin 1s steps(1) infinite;\n",
              "  }\n",
              "\n",
              "  @keyframes spin {\n",
              "    0% {\n",
              "      border-color: transparent;\n",
              "      border-bottom-color: var(--fill-color);\n",
              "      border-left-color: var(--fill-color);\n",
              "    }\n",
              "    20% {\n",
              "      border-color: transparent;\n",
              "      border-left-color: var(--fill-color);\n",
              "      border-top-color: var(--fill-color);\n",
              "    }\n",
              "    30% {\n",
              "      border-color: transparent;\n",
              "      border-left-color: var(--fill-color);\n",
              "      border-top-color: var(--fill-color);\n",
              "      border-right-color: var(--fill-color);\n",
              "    }\n",
              "    40% {\n",
              "      border-color: transparent;\n",
              "      border-right-color: var(--fill-color);\n",
              "      border-top-color: var(--fill-color);\n",
              "    }\n",
              "    60% {\n",
              "      border-color: transparent;\n",
              "      border-right-color: var(--fill-color);\n",
              "    }\n",
              "    80% {\n",
              "      border-color: transparent;\n",
              "      border-right-color: var(--fill-color);\n",
              "      border-bottom-color: var(--fill-color);\n",
              "    }\n",
              "    90% {\n",
              "      border-color: transparent;\n",
              "      border-bottom-color: var(--fill-color);\n",
              "    }\n",
              "  }\n",
              "</style>\n",
              "\n",
              "  <script>\n",
              "    async function quickchart(key) {\n",
              "      const quickchartButtonEl =\n",
              "        document.querySelector('#' + key + ' button');\n",
              "      quickchartButtonEl.disabled = true;  // To prevent multiple clicks.\n",
              "      quickchartButtonEl.classList.add('colab-df-spinner');\n",
              "      try {\n",
              "        const charts = await google.colab.kernel.invokeFunction(\n",
              "            'suggestCharts', [key], {});\n",
              "      } catch (error) {\n",
              "        console.error('Error during call to suggestCharts:', error);\n",
              "      }\n",
              "      quickchartButtonEl.classList.remove('colab-df-spinner');\n",
              "      quickchartButtonEl.classList.add('colab-df-quickchart-complete');\n",
              "    }\n",
              "    (() => {\n",
              "      let quickchartButtonEl =\n",
              "        document.querySelector('#df-83d08fbc-0316-4bbb-b9f1-a19ac06010f8 button');\n",
              "      quickchartButtonEl.style.display =\n",
              "        google.colab.kernel.accessAllowed ? 'block' : 'none';\n",
              "    })();\n",
              "  </script>\n",
              "</div>\n",
              "\n",
              "  <div id=\"id_e1ff1254-fa3a-407d-99d9-ff358cec2e8d\">\n",
              "    <style>\n",
              "      .colab-df-generate {\n",
              "        background-color: #E8F0FE;\n",
              "        border: none;\n",
              "        border-radius: 50%;\n",
              "        cursor: pointer;\n",
              "        display: none;\n",
              "        fill: #1967D2;\n",
              "        height: 32px;\n",
              "        padding: 0 0 0 0;\n",
              "        width: 32px;\n",
              "      }\n",
              "\n",
              "      .colab-df-generate:hover {\n",
              "        background-color: #E2EBFA;\n",
              "        box-shadow: 0px 1px 2px rgba(60, 64, 67, 0.3), 0px 1px 3px 1px rgba(60, 64, 67, 0.15);\n",
              "        fill: #174EA6;\n",
              "      }\n",
              "\n",
              "      [theme=dark] .colab-df-generate {\n",
              "        background-color: #3B4455;\n",
              "        fill: #D2E3FC;\n",
              "      }\n",
              "\n",
              "      [theme=dark] .colab-df-generate:hover {\n",
              "        background-color: #434B5C;\n",
              "        box-shadow: 0px 1px 3px 1px rgba(0, 0, 0, 0.15);\n",
              "        filter: drop-shadow(0px 1px 2px rgba(0, 0, 0, 0.3));\n",
              "        fill: #FFFFFF;\n",
              "      }\n",
              "    </style>\n",
              "    <button class=\"colab-df-generate\" onclick=\"generateWithVariable('df_pokemon')\"\n",
              "            title=\"Generate code using this dataframe.\"\n",
              "            style=\"display:none;\">\n",
              "\n",
              "  <svg xmlns=\"http://www.w3.org/2000/svg\" height=\"24px\"viewBox=\"0 0 24 24\"\n",
              "       width=\"24px\">\n",
              "    <path d=\"M7,19H8.4L18.45,9,17,7.55,7,17.6ZM5,21V16.75L18.45,3.32a2,2,0,0,1,2.83,0l1.4,1.43a1.91,1.91,0,0,1,.58,1.4,1.91,1.91,0,0,1-.58,1.4L9.25,21ZM18.45,9,17,7.55Zm-12,3A5.31,5.31,0,0,0,4.9,8.1,5.31,5.31,0,0,0,1,6.5,5.31,5.31,0,0,0,4.9,4.9,5.31,5.31,0,0,0,6.5,1,5.31,5.31,0,0,0,8.1,4.9,5.31,5.31,0,0,0,12,6.5,5.46,5.46,0,0,0,6.5,12Z\"/>\n",
              "  </svg>\n",
              "    </button>\n",
              "    <script>\n",
              "      (() => {\n",
              "      const buttonEl =\n",
              "        document.querySelector('#id_e1ff1254-fa3a-407d-99d9-ff358cec2e8d button.colab-df-generate');\n",
              "      buttonEl.style.display =\n",
              "        google.colab.kernel.accessAllowed ? 'block' : 'none';\n",
              "\n",
              "      buttonEl.onclick = () => {\n",
              "        google.colab.notebook.generateWithVariable('df_pokemon');\n",
              "      }\n",
              "      })();\n",
              "    </script>\n",
              "  </div>\n",
              "\n",
              "    </div>\n",
              "  </div>\n"
            ],
            "application/vnd.google.colaboratory.intrinsic+json": {
              "type": "dataframe",
              "variable_name": "df_pokemon",
              "summary": "{\n  \"name\": \"df_pokemon\",\n  \"rows\": 5,\n  \"fields\": [\n    {\n      \"column\": \"pokemon\",\n      \"properties\": {\n        \"dtype\": \"string\",\n        \"num_unique_values\": 5,\n        \"samples\": [\n          \"caterpie\",\n          \"mewtwo\",\n          \"snorlax\"\n        ],\n        \"semantic_type\": \"\",\n        \"description\": \"\"\n      }\n    },\n    {\n      \"column\": \"type1\",\n      \"properties\": {\n        \"dtype\": \"string\",\n        \"num_unique_values\": 5,\n        \"samples\": [\n          \"BUG\",\n          \"PSYCHIC\",\n          \"NORMAL\"\n        ],\n        \"semantic_type\": \"\",\n        \"description\": \"\"\n      }\n    },\n    {\n      \"column\": \"type2\",\n      \"properties\": {\n        \"dtype\": \"category\",\n        \"num_unique_values\": 2,\n        \"samples\": [\n          \"GROUND\",\n          \"NONE\"\n        ],\n        \"semantic_type\": \"\",\n        \"description\": \"\"\n      }\n    },\n    {\n      \"column\": \"base_hp\",\n      \"properties\": {\n        \"dtype\": \"number\",\n        \"std\": 51,\n        \"min\": 35,\n        \"max\": 160,\n        \"num_unique_values\": 5,\n        \"samples\": [\n          45,\n          106\n        ],\n        \"semantic_type\": \"\",\n        \"description\": \"\"\n      }\n    },\n    {\n      \"column\": \"attack\",\n      \"properties\": {\n        \"dtype\": \"number\",\n        \"std\": 36,\n        \"min\": 30,\n        \"max\": 110,\n        \"num_unique_values\": 4,\n        \"samples\": [\n          30,\n          45\n        ],\n        \"semantic_type\": \"\",\n        \"description\": \"\"\n      }\n    },\n    {\n      \"column\": \"defense\",\n      \"properties\": {\n        \"dtype\": \"number\",\n        \"std\": 47,\n        \"min\": 35,\n        \"max\": 160,\n        \"num_unique_values\": 5,\n        \"samples\": [\n          35,\n          90\n        ],\n        \"semantic_type\": \"\",\n        \"description\": \"\"\n      }\n    },\n    {\n      \"column\": \"sp_attack\",\n      \"properties\": {\n        \"dtype\": \"number\",\n        \"std\": 56,\n        \"min\": 20,\n        \"max\": 154,\n        \"num_unique_values\": 5,\n        \"samples\": [\n          20,\n          154\n        ],\n        \"semantic_type\": \"\",\n        \"description\": \"\"\n      }\n    },\n    {\n      \"column\": \"Sp_defense\",\n      \"properties\": {\n        \"dtype\": \"number\",\n        \"std\": 37,\n        \"min\": 20,\n        \"max\": 110,\n        \"num_unique_values\": 5,\n        \"samples\": [\n          20,\n          90\n        ],\n        \"semantic_type\": \"\",\n        \"description\": \"\"\n      }\n    },\n    {\n      \"column\": \"speed\",\n      \"properties\": {\n        \"dtype\": \"number\",\n        \"std\": 46,\n        \"min\": 30,\n        \"max\": 130,\n        \"num_unique_values\": 4,\n        \"samples\": [\n          45,\n          70\n        ],\n        \"semantic_type\": \"\",\n        \"description\": \"\"\n      }\n    },\n    {\n      \"column\": \"weight\",\n      \"properties\": {\n        \"dtype\": \"number\",\n        \"std\": 407.85944883010865,\n        \"min\": 6.4,\n        \"max\": 1014.1,\n        \"num_unique_values\": 5,\n        \"samples\": [\n          6.4,\n          269.0\n        ],\n        \"semantic_type\": \"\",\n        \"description\": \"\"\n      }\n    },\n    {\n      \"column\": \"catch_rate\",\n      \"properties\": {\n        \"dtype\": \"number\",\n        \"std\": 102,\n        \"min\": 3,\n        \"max\": 255,\n        \"num_unique_values\": 4,\n        \"samples\": [\n          255,\n          3\n        ],\n        \"semantic_type\": \"\",\n        \"description\": \"\"\n      }\n    }\n  ]\n}"
            }
          },
          "metadata": {},
          "execution_count": 10
        }
      ]
    },
    {
      "cell_type": "code",
      "source": [
        "df_pokemon.to_csv(\"pokemon_inmutables.csv\")"
      ],
      "metadata": {
        "id": "JWeYhOUOvDO1"
      },
      "execution_count": null,
      "outputs": []
    },
    {
      "cell_type": "markdown",
      "source": [
        "##Efectividad vs Probabilidad de captura.\n",
        "Si definimos la efectividad como:\n",
        "\n",
        "$Efec.=\\frac{Atrapadas}{Intentos}$\n",
        "\n",
        "Podemos calcular la efectividad de diferentes cantidad de itentos y compararla con la probabilidad de captura."
      ],
      "metadata": {
        "id": "Zui7wmtYoBYD"
      }
    },
    {
      "cell_type": "markdown",
      "source": [
        "Si probamos 100 veces"
      ],
      "metadata": {
        "id": "NU12DlMepJwH"
      }
    },
    {
      "cell_type": "code",
      "source": [
        "pokemon = factory.create(\"onix\", 100, StatusEffect.NONE, 1)\n",
        "\n",
        "EFECT_ACU= []\n",
        "EFECT_ACU_SN= []\n",
        "for i in range(100):\n",
        "  catch, prob= attempt_catch(pokemon, \"ultraball\") #Sin ruido\n",
        "  catch_sn, prob_sn= attempt_catch(pokemon, \"ultraball\", 0.05) #ruido 5%\n",
        "  EFECT_ACU.append(catch)\n",
        "  EFECT_ACU_SN.append(catch_sn)\n",
        "efectividad= sum(EFECT_ACU)/len(EFECT_ACU)\n",
        "efectividad_sn= sum(EFECT_ACU_SN)/len(EFECT_ACU_SN)\n",
        "print(f'Sin ruido-> Efectividad: {efectividad} vs Probabilidad: {prob}')\n",
        "print(f'Con ruido-> Efectividad: {efectividad_sn} vs Probabilidad: {prob_sn}')"
      ],
      "metadata": {
        "colab": {
          "base_uri": "https://localhost:8080/"
        },
        "id": "iSIgruNVoYSq",
        "outputId": "d31cafbd-2007-461c-9340-1bd373cd9b95"
      },
      "execution_count": null,
      "outputs": [
        {
          "output_type": "stream",
          "name": "stdout",
          "text": [
            "Sin ruido-> Efectividad: 0.11 vs Probabilidad: 0.1172\n",
            "Con ruido-> Efectividad: 0.1 vs Probabilidad: 0.11290997889123659\n"
          ]
        }
      ]
    },
    {
      "cell_type": "markdown",
      "source": [
        "Mil veces"
      ],
      "metadata": {
        "id": "j8yG8zbyphFt"
      }
    },
    {
      "cell_type": "code",
      "source": [
        "pokemon = factory.create(\"onix\", 1000, StatusEffect.NONE, 1)\n",
        "\n",
        "EFECT_ACU= []\n",
        "EFECT_ACU_SN= []\n",
        "for i in range(1000):\n",
        "  catch, prob= attempt_catch(pokemon, \"ultraball\") #Sin ruido\n",
        "  catch_sn, prob_sn= attempt_catch(pokemon, \"ultraball\", 0.05) #ruido 5%\n",
        "  EFECT_ACU.append(catch)\n",
        "  EFECT_ACU_SN.append(catch_sn)\n",
        "efectividad= sum(EFECT_ACU)/len(EFECT_ACU)\n",
        "efectividad_sn= sum(EFECT_ACU_SN)/len(EFECT_ACU_SN)\n",
        "print(f'Sin ruido-> Efectividad: {efectividad} vs Probabilidad: {prob}')\n",
        "print(f'Con ruido-> Efectividad: {efectividad_sn} vs Probabilidad: {prob_sn}')"
      ],
      "metadata": {
        "colab": {
          "base_uri": "https://localhost:8080/"
        },
        "id": "pz-IIm2-peJK",
        "outputId": "9ecc0501-7e70-4db9-9324-db6bf118686c"
      },
      "execution_count": null,
      "outputs": [
        {
          "output_type": "stream",
          "name": "stdout",
          "text": [
            "Sin ruido-> Efectividad: 0.131 vs Probabilidad: 0.1172\n",
            "Con ruido-> Efectividad: 0.113 vs Probabilidad: 0.11186350355497765\n"
          ]
        }
      ]
    },
    {
      "cell_type": "markdown",
      "source": [
        "10 mil veces"
      ],
      "metadata": {
        "id": "Tp-leC7Mplnj"
      }
    },
    {
      "cell_type": "code",
      "source": [
        "pokemon = factory.create(\"onix\", 1000, StatusEffect.NONE, 1)\n",
        "\n",
        "EFECT_ACU= []\n",
        "EFECT_ACU_SN= []\n",
        "for i in range(10000):\n",
        "  catch, prob= attempt_catch(pokemon, \"ultraball\") #Sin ruido\n",
        "  catch_sn, prob_sn= attempt_catch(pokemon, \"ultraball\", 0.05) #ruido 5%\n",
        "  EFECT_ACU.append(catch)\n",
        "  EFECT_ACU_SN.append(catch_sn)\n",
        "efectividad= sum(EFECT_ACU)/len(EFECT_ACU)\n",
        "efectividad_sn= sum(EFECT_ACU_SN)/len(EFECT_ACU_SN)\n",
        "print(f'Sin ruido-> Efectividad: {efectividad} vs Probabilidad: {prob}')\n",
        "print(f'Con ruido-> Efectividad: {efectividad_sn} vs Probabilidad: {prob_sn}')"
      ],
      "metadata": {
        "colab": {
          "base_uri": "https://localhost:8080/"
        },
        "id": "EfI9M3ipprbE",
        "outputId": "bc88f884-350a-4d23-dff5-3c5fe1f2ae01"
      },
      "execution_count": null,
      "outputs": [
        {
          "output_type": "stream",
          "name": "stdout",
          "text": [
            "Sin ruido-> Efectividad: 0.1208 vs Probabilidad: 0.1172\n",
            "Con ruido-> Efectividad: 0.1119 vs Probabilidad: 0.11403211746997473\n"
          ]
        }
      ]
    },
    {
      "cell_type": "markdown",
      "source": [
        "**Por lo tanto, podemos establecer que la efectividad y la probabilidad convergen en un mismo valor.** Por ese motivo, de aquí en adelante se va a utilizar sólo la probabilidad."
      ],
      "metadata": {
        "id": "OHDivriUpvLx"
      }
    },
    {
      "cell_type": "markdown",
      "source": [
        "## Creación de dataset\n",
        "Para crear el dataset se crearon pokemones utilizando los 5 pokemon preestablecidos, las 4 bolas disponibles, y variando todas sus propiedades mutables:\n",
        "- Variación de raza de Pokemon: jolteon, caterpie, snorlax, onix y mewtwo.\n",
        "- Variación de bolas: pokeball, ultraball, fastball y heavyball.\n",
        "- Variación de current HP (VIDA): de 0 a 1.\n",
        "- Variación de Level (nivel): de 0 a 100.\n",
        "- Variación de estado: Burn, Freeze, None, Paralysis, Poison y Sleep.\n"
      ],
      "metadata": {
        "id": "UN47mxJIk9fV"
      }
    },
    {
      "cell_type": "markdown",
      "source": [
        "##Definición de parámetros para iterar."
      ],
      "metadata": {
        "id": "2PA-OlmEnC0q"
      }
    },
    {
      "cell_type": "code",
      "source": [
        "pokemons_names= [\"jolteon\", \"caterpie\", \"snorlax\", \"onix\", \"mewtwo\"] #Las 5 tipos de pokemon\n",
        "balls= [\"pokeball\", \"ultraball\", \"fastball\" , \"heavyball\"] #Las 4 tipos de bolas\n",
        "current_hp= np.arange( 0,1.1,0.1, dtype=np.float16) #Current HP de 0 a 1 con salto de 0.05\n",
        "levels= np.arange(0,101,5) #Niveles de 0 a 100 con saltos de 5\n",
        "\n",
        "status_effect= [StatusEffect.BURN, #Todos los estados del pokemon\n",
        "                StatusEffect.FREEZE,\n",
        "                StatusEffect.NONE,\n",
        "                StatusEffect.PARALYSIS,\n",
        "                StatusEffect.POISON,\n",
        "                StatusEffect.SLEEP ]\n",
        "status_effect_names= [\"BURN\",\n",
        "                \"FREEZE\",\n",
        "                \"NONE\",\n",
        "                \"PARALYSIS\",\n",
        "                \"POISON\",\n",
        "                \"SLEEP\"]"
      ],
      "metadata": {
        "id": "CK7G3ueBmi6U"
      },
      "execution_count": null,
      "outputs": []
    },
    {
      "cell_type": "markdown",
      "source": [
        "##Iteración"
      ],
      "metadata": {
        "id": "-N4HXrWanIYs"
      }
    },
    {
      "cell_type": "code",
      "source": [
        "PROB= []\n",
        "POKEMON_NAME= []\n",
        "BALL=[]\n",
        "LVL=[]\n",
        "HP=[]\n",
        "STATUS=[]\n",
        "\n",
        "\n",
        "for ball in balls:\n",
        "  for pokemon_name in pokemons_names:\n",
        "    for level in levels:\n",
        "      for i, status in enumerate(status_effect):\n",
        "        for hp in current_hp:\n",
        "\n",
        "          pokemon = factory.create(pokemon_name, level, status, hp)\n",
        "          catch, prob= attempt_catch( pokemon, ball, 0.02)\n",
        "          PROB.append(prob)\n",
        "          POKEMON_NAME.append(pokemon_name)\n",
        "          BALL.append(ball)\n",
        "          LVL.append(level)\n",
        "          HP.append(hp)\n",
        "          STATUS.append(status_effect_names[i])"
      ],
      "metadata": {
        "id": "Vil6ofz3m_ey"
      },
      "execution_count": null,
      "outputs": []
    },
    {
      "cell_type": "markdown",
      "source": [
        "##Creación de dataframe con dataset"
      ],
      "metadata": {
        "id": "hcuDcerYnhCR"
      }
    },
    {
      "cell_type": "code",
      "source": [
        "df_todos= pd.DataFrame({\"Pokemon\": POKEMON_NAME, \"Ball\": BALL, \"Level\": LVL, \"Hp\": HP, \"Status\": STATUS, \"Prob\": PROB  })"
      ],
      "metadata": {
        "id": "w63csR3AngtC"
      },
      "execution_count": null,
      "outputs": []
    },
    {
      "cell_type": "code",
      "source": [
        "len(df_todos)"
      ],
      "metadata": {
        "colab": {
          "base_uri": "https://localhost:8080/"
        },
        "id": "GPNGgdYyVdmo",
        "outputId": "9ee9520d-c656-4be0-ef7b-210d22fad340"
      },
      "execution_count": null,
      "outputs": [
        {
          "output_type": "execute_result",
          "data": {
            "text/plain": [
              "27720"
            ]
          },
          "metadata": {},
          "execution_count": 18
        }
      ]
    },
    {
      "cell_type": "code",
      "source": [
        "df_todos.head()"
      ],
      "metadata": {
        "colab": {
          "base_uri": "https://localhost:8080/",
          "height": 206
        },
        "id": "1GdOfr0DnlGq",
        "outputId": "2370444a-4c93-4798-bc5e-91bc13b2e83c"
      },
      "execution_count": null,
      "outputs": [
        {
          "output_type": "execute_result",
          "data": {
            "text/plain": [
              "   Pokemon      Ball  Level        Hp Status      Prob\n",
              "0  jolteon  pokeball      0  0.000000   BURN  0.243883\n",
              "1  jolteon  pokeball      0  0.099976   BURN  0.239376\n",
              "2  jolteon  pokeball      0  0.199951   BURN  0.233513\n",
              "3  jolteon  pokeball      0  0.299805   BURN  0.212150\n",
              "4  jolteon  pokeball      0  0.399902   BURN  0.205306"
            ],
            "text/html": [
              "\n",
              "  <div id=\"df-f6ee6ca0-66b8-49e3-8e52-09019ac02438\" class=\"colab-df-container\">\n",
              "    <div>\n",
              "<style scoped>\n",
              "    .dataframe tbody tr th:only-of-type {\n",
              "        vertical-align: middle;\n",
              "    }\n",
              "\n",
              "    .dataframe tbody tr th {\n",
              "        vertical-align: top;\n",
              "    }\n",
              "\n",
              "    .dataframe thead th {\n",
              "        text-align: right;\n",
              "    }\n",
              "</style>\n",
              "<table border=\"1\" class=\"dataframe\">\n",
              "  <thead>\n",
              "    <tr style=\"text-align: right;\">\n",
              "      <th></th>\n",
              "      <th>Pokemon</th>\n",
              "      <th>Ball</th>\n",
              "      <th>Level</th>\n",
              "      <th>Hp</th>\n",
              "      <th>Status</th>\n",
              "      <th>Prob</th>\n",
              "    </tr>\n",
              "  </thead>\n",
              "  <tbody>\n",
              "    <tr>\n",
              "      <th>0</th>\n",
              "      <td>jolteon</td>\n",
              "      <td>pokeball</td>\n",
              "      <td>0</td>\n",
              "      <td>0.000000</td>\n",
              "      <td>BURN</td>\n",
              "      <td>0.243883</td>\n",
              "    </tr>\n",
              "    <tr>\n",
              "      <th>1</th>\n",
              "      <td>jolteon</td>\n",
              "      <td>pokeball</td>\n",
              "      <td>0</td>\n",
              "      <td>0.099976</td>\n",
              "      <td>BURN</td>\n",
              "      <td>0.239376</td>\n",
              "    </tr>\n",
              "    <tr>\n",
              "      <th>2</th>\n",
              "      <td>jolteon</td>\n",
              "      <td>pokeball</td>\n",
              "      <td>0</td>\n",
              "      <td>0.199951</td>\n",
              "      <td>BURN</td>\n",
              "      <td>0.233513</td>\n",
              "    </tr>\n",
              "    <tr>\n",
              "      <th>3</th>\n",
              "      <td>jolteon</td>\n",
              "      <td>pokeball</td>\n",
              "      <td>0</td>\n",
              "      <td>0.299805</td>\n",
              "      <td>BURN</td>\n",
              "      <td>0.212150</td>\n",
              "    </tr>\n",
              "    <tr>\n",
              "      <th>4</th>\n",
              "      <td>jolteon</td>\n",
              "      <td>pokeball</td>\n",
              "      <td>0</td>\n",
              "      <td>0.399902</td>\n",
              "      <td>BURN</td>\n",
              "      <td>0.205306</td>\n",
              "    </tr>\n",
              "  </tbody>\n",
              "</table>\n",
              "</div>\n",
              "    <div class=\"colab-df-buttons\">\n",
              "\n",
              "  <div class=\"colab-df-container\">\n",
              "    <button class=\"colab-df-convert\" onclick=\"convertToInteractive('df-f6ee6ca0-66b8-49e3-8e52-09019ac02438')\"\n",
              "            title=\"Convert this dataframe to an interactive table.\"\n",
              "            style=\"display:none;\">\n",
              "\n",
              "  <svg xmlns=\"http://www.w3.org/2000/svg\" height=\"24px\" viewBox=\"0 -960 960 960\">\n",
              "    <path d=\"M120-120v-720h720v720H120Zm60-500h600v-160H180v160Zm220 220h160v-160H400v160Zm0 220h160v-160H400v160ZM180-400h160v-160H180v160Zm440 0h160v-160H620v160ZM180-180h160v-160H180v160Zm440 0h160v-160H620v160Z\"/>\n",
              "  </svg>\n",
              "    </button>\n",
              "\n",
              "  <style>\n",
              "    .colab-df-container {\n",
              "      display:flex;\n",
              "      gap: 12px;\n",
              "    }\n",
              "\n",
              "    .colab-df-convert {\n",
              "      background-color: #E8F0FE;\n",
              "      border: none;\n",
              "      border-radius: 50%;\n",
              "      cursor: pointer;\n",
              "      display: none;\n",
              "      fill: #1967D2;\n",
              "      height: 32px;\n",
              "      padding: 0 0 0 0;\n",
              "      width: 32px;\n",
              "    }\n",
              "\n",
              "    .colab-df-convert:hover {\n",
              "      background-color: #E2EBFA;\n",
              "      box-shadow: 0px 1px 2px rgba(60, 64, 67, 0.3), 0px 1px 3px 1px rgba(60, 64, 67, 0.15);\n",
              "      fill: #174EA6;\n",
              "    }\n",
              "\n",
              "    .colab-df-buttons div {\n",
              "      margin-bottom: 4px;\n",
              "    }\n",
              "\n",
              "    [theme=dark] .colab-df-convert {\n",
              "      background-color: #3B4455;\n",
              "      fill: #D2E3FC;\n",
              "    }\n",
              "\n",
              "    [theme=dark] .colab-df-convert:hover {\n",
              "      background-color: #434B5C;\n",
              "      box-shadow: 0px 1px 3px 1px rgba(0, 0, 0, 0.15);\n",
              "      filter: drop-shadow(0px 1px 2px rgba(0, 0, 0, 0.3));\n",
              "      fill: #FFFFFF;\n",
              "    }\n",
              "  </style>\n",
              "\n",
              "    <script>\n",
              "      const buttonEl =\n",
              "        document.querySelector('#df-f6ee6ca0-66b8-49e3-8e52-09019ac02438 button.colab-df-convert');\n",
              "      buttonEl.style.display =\n",
              "        google.colab.kernel.accessAllowed ? 'block' : 'none';\n",
              "\n",
              "      async function convertToInteractive(key) {\n",
              "        const element = document.querySelector('#df-f6ee6ca0-66b8-49e3-8e52-09019ac02438');\n",
              "        const dataTable =\n",
              "          await google.colab.kernel.invokeFunction('convertToInteractive',\n",
              "                                                    [key], {});\n",
              "        if (!dataTable) return;\n",
              "\n",
              "        const docLinkHtml = 'Like what you see? Visit the ' +\n",
              "          '<a target=\"_blank\" href=https://colab.research.google.com/notebooks/data_table.ipynb>data table notebook</a>'\n",
              "          + ' to learn more about interactive tables.';\n",
              "        element.innerHTML = '';\n",
              "        dataTable['output_type'] = 'display_data';\n",
              "        await google.colab.output.renderOutput(dataTable, element);\n",
              "        const docLink = document.createElement('div');\n",
              "        docLink.innerHTML = docLinkHtml;\n",
              "        element.appendChild(docLink);\n",
              "      }\n",
              "    </script>\n",
              "  </div>\n",
              "\n",
              "\n",
              "<div id=\"df-7d055295-b64c-4e64-bfb8-2165effb9270\">\n",
              "  <button class=\"colab-df-quickchart\" onclick=\"quickchart('df-7d055295-b64c-4e64-bfb8-2165effb9270')\"\n",
              "            title=\"Suggest charts\"\n",
              "            style=\"display:none;\">\n",
              "\n",
              "<svg xmlns=\"http://www.w3.org/2000/svg\" height=\"24px\"viewBox=\"0 0 24 24\"\n",
              "     width=\"24px\">\n",
              "    <g>\n",
              "        <path d=\"M19 3H5c-1.1 0-2 .9-2 2v14c0 1.1.9 2 2 2h14c1.1 0 2-.9 2-2V5c0-1.1-.9-2-2-2zM9 17H7v-7h2v7zm4 0h-2V7h2v10zm4 0h-2v-4h2v4z\"/>\n",
              "    </g>\n",
              "</svg>\n",
              "  </button>\n",
              "\n",
              "<style>\n",
              "  .colab-df-quickchart {\n",
              "      --bg-color: #E8F0FE;\n",
              "      --fill-color: #1967D2;\n",
              "      --hover-bg-color: #E2EBFA;\n",
              "      --hover-fill-color: #174EA6;\n",
              "      --disabled-fill-color: #AAA;\n",
              "      --disabled-bg-color: #DDD;\n",
              "  }\n",
              "\n",
              "  [theme=dark] .colab-df-quickchart {\n",
              "      --bg-color: #3B4455;\n",
              "      --fill-color: #D2E3FC;\n",
              "      --hover-bg-color: #434B5C;\n",
              "      --hover-fill-color: #FFFFFF;\n",
              "      --disabled-bg-color: #3B4455;\n",
              "      --disabled-fill-color: #666;\n",
              "  }\n",
              "\n",
              "  .colab-df-quickchart {\n",
              "    background-color: var(--bg-color);\n",
              "    border: none;\n",
              "    border-radius: 50%;\n",
              "    cursor: pointer;\n",
              "    display: none;\n",
              "    fill: var(--fill-color);\n",
              "    height: 32px;\n",
              "    padding: 0;\n",
              "    width: 32px;\n",
              "  }\n",
              "\n",
              "  .colab-df-quickchart:hover {\n",
              "    background-color: var(--hover-bg-color);\n",
              "    box-shadow: 0 1px 2px rgba(60, 64, 67, 0.3), 0 1px 3px 1px rgba(60, 64, 67, 0.15);\n",
              "    fill: var(--button-hover-fill-color);\n",
              "  }\n",
              "\n",
              "  .colab-df-quickchart-complete:disabled,\n",
              "  .colab-df-quickchart-complete:disabled:hover {\n",
              "    background-color: var(--disabled-bg-color);\n",
              "    fill: var(--disabled-fill-color);\n",
              "    box-shadow: none;\n",
              "  }\n",
              "\n",
              "  .colab-df-spinner {\n",
              "    border: 2px solid var(--fill-color);\n",
              "    border-color: transparent;\n",
              "    border-bottom-color: var(--fill-color);\n",
              "    animation:\n",
              "      spin 1s steps(1) infinite;\n",
              "  }\n",
              "\n",
              "  @keyframes spin {\n",
              "    0% {\n",
              "      border-color: transparent;\n",
              "      border-bottom-color: var(--fill-color);\n",
              "      border-left-color: var(--fill-color);\n",
              "    }\n",
              "    20% {\n",
              "      border-color: transparent;\n",
              "      border-left-color: var(--fill-color);\n",
              "      border-top-color: var(--fill-color);\n",
              "    }\n",
              "    30% {\n",
              "      border-color: transparent;\n",
              "      border-left-color: var(--fill-color);\n",
              "      border-top-color: var(--fill-color);\n",
              "      border-right-color: var(--fill-color);\n",
              "    }\n",
              "    40% {\n",
              "      border-color: transparent;\n",
              "      border-right-color: var(--fill-color);\n",
              "      border-top-color: var(--fill-color);\n",
              "    }\n",
              "    60% {\n",
              "      border-color: transparent;\n",
              "      border-right-color: var(--fill-color);\n",
              "    }\n",
              "    80% {\n",
              "      border-color: transparent;\n",
              "      border-right-color: var(--fill-color);\n",
              "      border-bottom-color: var(--fill-color);\n",
              "    }\n",
              "    90% {\n",
              "      border-color: transparent;\n",
              "      border-bottom-color: var(--fill-color);\n",
              "    }\n",
              "  }\n",
              "</style>\n",
              "\n",
              "  <script>\n",
              "    async function quickchart(key) {\n",
              "      const quickchartButtonEl =\n",
              "        document.querySelector('#' + key + ' button');\n",
              "      quickchartButtonEl.disabled = true;  // To prevent multiple clicks.\n",
              "      quickchartButtonEl.classList.add('colab-df-spinner');\n",
              "      try {\n",
              "        const charts = await google.colab.kernel.invokeFunction(\n",
              "            'suggestCharts', [key], {});\n",
              "      } catch (error) {\n",
              "        console.error('Error during call to suggestCharts:', error);\n",
              "      }\n",
              "      quickchartButtonEl.classList.remove('colab-df-spinner');\n",
              "      quickchartButtonEl.classList.add('colab-df-quickchart-complete');\n",
              "    }\n",
              "    (() => {\n",
              "      let quickchartButtonEl =\n",
              "        document.querySelector('#df-7d055295-b64c-4e64-bfb8-2165effb9270 button');\n",
              "      quickchartButtonEl.style.display =\n",
              "        google.colab.kernel.accessAllowed ? 'block' : 'none';\n",
              "    })();\n",
              "  </script>\n",
              "</div>\n",
              "\n",
              "    </div>\n",
              "  </div>\n"
            ],
            "application/vnd.google.colaboratory.intrinsic+json": {
              "type": "dataframe",
              "variable_name": "df_todos",
              "summary": "{\n  \"name\": \"df_todos\",\n  \"rows\": 27720,\n  \"fields\": [\n    {\n      \"column\": \"Pokemon\",\n      \"properties\": {\n        \"dtype\": \"category\",\n        \"num_unique_values\": 5,\n        \"samples\": [\n          \"caterpie\",\n          \"mewtwo\",\n          \"snorlax\"\n        ],\n        \"semantic_type\": \"\",\n        \"description\": \"\"\n      }\n    },\n    {\n      \"column\": \"Ball\",\n      \"properties\": {\n        \"dtype\": \"category\",\n        \"num_unique_values\": 4,\n        \"samples\": [\n          \"ultraball\",\n          \"heavyball\",\n          \"pokeball\"\n        ],\n        \"semantic_type\": \"\",\n        \"description\": \"\"\n      }\n    },\n    {\n      \"column\": \"Level\",\n      \"properties\": {\n        \"dtype\": \"number\",\n        \"std\": 30,\n        \"min\": 0,\n        \"max\": 100,\n        \"num_unique_values\": 21,\n        \"samples\": [\n          0,\n          85,\n          75\n        ],\n        \"semantic_type\": \"\",\n        \"description\": \"\"\n      }\n    },\n    {\n      \"column\": \"Hp\",\n      \"properties\": {\n        \"dtype\": \"float16\",\n        \"num_unique_values\": 11,\n        \"samples\": [\n          0.5,\n          0.0,\n          0.89990234375\n        ],\n        \"semantic_type\": \"\",\n        \"description\": \"\"\n      }\n    },\n    {\n      \"column\": \"Status\",\n      \"properties\": {\n        \"dtype\": \"category\",\n        \"num_unique_values\": 6,\n        \"samples\": [\n          \"BURN\",\n          \"FREEZE\",\n          \"SLEEP\"\n        ],\n        \"semantic_type\": \"\",\n        \"description\": \"\"\n      }\n    },\n    {\n      \"column\": \"Prob\",\n      \"properties\": {\n        \"dtype\": \"number\",\n        \"std\": 0.3375356185560912,\n        \"min\": 0.0012674396667195426,\n        \"max\": 1.0,\n        \"num_unique_values\": 24125,\n        \"samples\": [\n          0.23119518076344517,\n          0.028832995858131497,\n          0.09021974013412083\n        ],\n        \"semantic_type\": \"\",\n        \"description\": \"\"\n      }\n    }\n  ]\n}"
            }
          },
          "metadata": {},
          "execution_count": 19
        }
      ]
    },
    {
      "cell_type": "code",
      "source": [
        "df_todos.to_csv(\"pokemon.csv\")"
      ],
      "metadata": {
        "id": "TEufJbjqnwg6"
      },
      "execution_count": null,
      "outputs": []
    },
    {
      "cell_type": "markdown",
      "source": [
        "##Iteración con alto ruido (0.15)utilizando Efectividad.\n",
        "Se calcula el valor medio y el desvio standard.\n",
        "> Añadir blockquote\n",
        "\n"
      ],
      "metadata": {
        "id": "X5hBjz-I_EaC"
      }
    },
    {
      "cell_type": "code",
      "source": [
        "PROB= []\n",
        "POKEMON_NAME= []\n",
        "BALL=[]\n",
        "LVL=[]\n",
        "HP=[]\n",
        "STATUS=[]\n",
        "MEAN=[]\n",
        "STD=[]\n",
        "prob_= np.empty(100)\n",
        "\n",
        "for ball in balls:\n",
        "  for pokemon_name in pokemons_names:\n",
        "    for level in levels:\n",
        "      for i, status in enumerate(status_effect):\n",
        "        for hp in current_hp:\n",
        "          pokemon = factory.create(pokemon_name, level, status, hp)\n",
        "\n",
        "          for g in range(100):\n",
        "            catch, prob= attempt_catch( pokemon, ball, 0.1)\n",
        "            prob_[g]= prob\n",
        "\n",
        "          MEAN.append(prob_.mean())\n",
        "          STD.append(prob_.std())\n",
        "          PROB.append(prob)\n",
        "          POKEMON_NAME.append(pokemon_name)\n",
        "          BALL.append(ball)\n",
        "          LVL.append(level)\n",
        "          HP.append(hp)\n",
        "          STATUS.append(status_effect_names[i])"
      ],
      "metadata": {
        "id": "iKFBEdZW9uuy"
      },
      "execution_count": null,
      "outputs": []
    },
    {
      "cell_type": "code",
      "source": [
        "df_todos_ruido= pd.DataFrame({\"Pokemon\": POKEMON_NAME, \"Ball\": BALL, \"Level\": LVL, \"Hp\": HP, \"Status\": STATUS, \"Prob\": PROB, \"Mean\": MEAN, \"Std\": STD  })"
      ],
      "metadata": {
        "id": "u7c1Iz1DAMSR"
      },
      "execution_count": null,
      "outputs": []
    },
    {
      "cell_type": "code",
      "source": [
        "df_todos_ruido.to_csv(\"pokemon_ruido.csv\")"
      ],
      "metadata": {
        "id": "LWnyTGmCEwfz"
      },
      "execution_count": null,
      "outputs": []
    }
  ]
}